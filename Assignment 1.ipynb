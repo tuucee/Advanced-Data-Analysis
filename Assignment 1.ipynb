{
 "cells": [
  {
   "cell_type": "code",
   "execution_count": 7,
   "id": "32783557",
   "metadata": {},
   "outputs": [
    {
     "name": "stdout",
     "output_type": "stream",
     "text": [
      "1 ile 20 arasında bir sayı tutun\n",
      "Tahminin: 3\n",
      "Tahmininden daha büyük\n",
      "Tahminin: 7\n",
      "Tahmininden daha büyük\n",
      "Tahminin: 10\n",
      "Tebrikler!\n"
     ]
    }
   ],
   "source": [
    "#Question 1:\n",
    "\n",
    "import random\n",
    "\n",
    "def guessing_game():\n",
    "    \n",
    "    correct_number = random.randint(1, 20)\n",
    "    \n",
    "    print(\"1 ile 20 arasında bir sayı tutun\")\n",
    "    \n",
    "#random.randint programı ile 1 ile 20 arasında rastgele bir sayı seçtirdim.\n",
    "\n",
    "\n",
    "    while True:\n",
    "       \n",
    "        try:\n",
    "            guess = int(input(\"Tahminin: \"))\n",
    "        except ValueError:\n",
    "            print(\"Lütfen geçerli bir sayı giriniz.\")\n",
    "            continue\n",
    "\n",
    "        if guess == correct_number:\n",
    "            print(\"Tebrikler!\")\n",
    "            break\n",
    "        elif guess < correct_number:\n",
    "            print(\"Tahmininden daha büyük\")\n",
    "        else:\n",
    "            print(\"Tahmininden daha küçük\")\n",
    "\n",
    "guessing_game()"
   ]
  },
  {
   "cell_type": "code",
   "execution_count": 3,
   "id": "dee6e7b6",
   "metadata": {},
   "outputs": [
    {
     "name": "stdout",
     "output_type": "stream",
     "text": [
      "1010\n"
     ]
    }
   ],
   "source": [
    "#Question 3:\n",
    "\n",
    "def add_binary(a, b):\n",
    "    \n",
    "    # İkili dizeleri ondalık sayılara çevir, topla ve tekrar ikili dizeye çevir\n",
    "    \n",
    "    sum_decimal = int(a, 2) + int(b, 2)\n",
    "    return bin(sum_decimal)[2:] \n",
    "\n",
    "# Örnek kullanım\n",
    "a = \"111\"\n",
    "b = \"11\"\n",
    "print(add_binary(a, b))  \n"
   ]
  },
  {
   "cell_type": "code",
   "execution_count": 4,
   "id": "8573e3a8",
   "metadata": {},
   "outputs": [
    {
     "name": "stdout",
     "output_type": "stream",
     "text": [
      "4\n",
      "4\n",
      "1\n"
     ]
    }
   ],
   "source": [
    "#Question 4: \n",
    "\n",
    "def find_single_number(nums):\n",
    "    result = 0\n",
    "    for num in nums:\n",
    "        result ^= num  # Her elemanla XOR işlemi yap\n",
    "    return result\n",
    "\n",
    "\n",
    "nums = [2, 2, 1, 1, 4 ]\n",
    "print(find_single_number(nums))  \n",
    "\n",
    "nums = [4, 1, 2, 1, 2]\n",
    "print(find_single_number(nums))  \n",
    "\n",
    "nums = [1]\n",
    "print(find_single_number(nums))  "
   ]
  },
  {
   "cell_type": "code",
   "execution_count": null,
   "id": "1e974498",
   "metadata": {},
   "outputs": [],
   "source": [
    "#Question 5\n",
    "\n",
    "#Bir fonksiyon tanımlayalım ve iki tane küme oluşturalım.\n",
    "\n",
    "def find_repeated_dna_sequences(s):\n",
    "    \n",
    "    seen, repeated = set(), set()\n",
    "    \n",
    "    for i in range(len(s) - 9):\n",
    "        \n",
    "        sequence = s[i:i + 10]  # Her 10 karakter uzunluğundaki alt diziyi al\n",
    "        \n",
    "        if sequence in seen:\n",
    "            repeated.add(sequence)  # Eğer daha önce görüldüyse, tekrar edenler kümesine ekle\n",
    "        \n",
    "        else:\n",
    "            seen.add(sequence)  # Eğer yeni bir alt dizi ise, görülenlere ekle\n",
    "    \n",
    "    return list(repeated)  # Tekrar edenleri liste olarak döndür\n",
    "\n",
    "\n",
    "s = \"AAAAACCCCCAAAAACCCCCCAAAAAGGGTTT\"\n",
    "print(find_repeated_dna_sequences(s))"
   ]
  }
 ],
 "metadata": {
  "kernelspec": {
   "display_name": "Python 3 (ipykernel)",
   "language": "python",
   "name": "python3"
  },
  "language_info": {
   "codemirror_mode": {
    "name": "ipython",
    "version": 3
   },
   "file_extension": ".py",
   "mimetype": "text/x-python",
   "name": "python",
   "nbconvert_exporter": "python",
   "pygments_lexer": "ipython3",
   "version": "3.9.13"
  }
 },
 "nbformat": 4,
 "nbformat_minor": 5
}
