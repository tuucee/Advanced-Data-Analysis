{
 "cells": [
  {
   "cell_type": "markdown",
   "id": "7c4f0de6",
   "metadata": {},
   "source": [
    "First, I imported the Pandas library to handle and analyze the data.\n",
    "\n",
    "The datasets used in this analysis were imported from the Gapminder platform, including GDP per capita, population, and life expectancy data.\n"
   ]
  },
  {
   "cell_type": "code",
   "execution_count": 8,
   "id": "a2836c98",
   "metadata": {},
   "outputs": [],
   "source": [
    "import pandas as pd "
   ]
  },
  {
   "cell_type": "code",
   "execution_count": 9,
   "id": "0e3d6505",
   "metadata": {},
   "outputs": [],
   "source": [
    "gdp = pd.read_csv('gdp_pcap.csv')"
   ]
  },
  {
   "cell_type": "code",
   "execution_count": 10,
   "id": "9b47f2df",
   "metadata": {},
   "outputs": [],
   "source": [
    "population = pd.read_csv('pop.csv')"
   ]
  },
  {
   "cell_type": "code",
   "execution_count": 11,
   "id": "f7fe392f",
   "metadata": {},
   "outputs": [],
   "source": [
    "life_expectancy = pd.read_csv('lex.csv')"
   ]
  },
  {
   "cell_type": "code",
   "execution_count": 12,
   "id": "cf073394",
   "metadata": {},
   "outputs": [
    {
     "name": "stdout",
     "output_type": "stream",
     "text": [
      "GDP Data:\n",
      "       country  1800  1801  1802  1803  1804  1805  1806  1807  1808  ...  \\\n",
      "0  Afghanistan   481   481   481   481   481   481   481   481   481  ...   \n",
      "1       Angola   373   374   376   378   379   381   383   385   386  ...   \n",
      "2      Albania   469   471   472   473   475   476   477   479   480  ...   \n",
      "3      Andorra  1370  1370  1370  1380  1380  1380  1390  1390  1390  ...   \n",
      "4          UAE  1140  1150  1150  1150  1160  1160  1170  1170  1180  ...   \n",
      "\n",
      "    2091   2092   2093   2094   2095   2096   2097   2098   2099   2100  \n",
      "0   4680   4790   4910   5020   5140   5260   5380   5510   5640   5780  \n",
      "1  24.5k    25k  25.6k  26.1k  26.6k  27.1k  27.7k  28.2k  28.8k  29.3k  \n",
      "2  54.5k  55.1k  55.7k  56.3k  56.9k  57.4k    58k  58.6k  59.2k  59.8k  \n",
      "3  79.9k  80.2k  80.4k  80.7k    81k  81.3k  81.5k  81.8k    82k  82.3k  \n",
      "4  92.6k  92.6k  92.6k  92.7k  92.7k  92.7k  92.8k  92.8k  92.8k  92.9k  \n",
      "\n",
      "[5 rows x 302 columns]\n",
      "\n",
      "Population Data:\n",
      "       country   1800   1801   1802   1803   1804   1805   1806   1807   1808  \\\n",
      "0  Afghanistan  3.28M  3.28M  3.28M  3.28M  3.28M  3.28M  3.28M  3.28M  3.28M   \n",
      "1       Angola  1.57M  1.57M  1.57M  1.57M  1.57M  1.57M  1.57M  1.57M  1.57M   \n",
      "2      Albania   400k   402k   404k   405k   407k   409k   411k   413k   414k   \n",
      "3      Andorra   2650   2650   2650   2650   2650   2650   2650   2650   2650   \n",
      "4          UAE  40.2k  40.2k  40.2k  40.2k  40.2k  40.2k  40.2k  40.2k  40.2k   \n",
      "\n",
      "   ...   2091   2092   2093   2094   2095   2096   2097   2098   2099   2100  \n",
      "0  ...   124M   125M   126M   126M   127M   128M   128M   129M   130M   130M  \n",
      "1  ...   139M   140M   142M   143M   144M   145M   147M   148M   149M   150M  \n",
      "2  ...  1.34M  1.32M   1.3M  1.29M  1.27M  1.25M  1.23M  1.22M   1.2M  1.18M  \n",
      "3  ...  52.8k  52.1k  51.5k  50.8k  50.2k  49.6k    49k  48.4k  47.8k  47.2k  \n",
      "4  ...  24.1M  24.3M  24.5M  24.7M    25M  25.2M  25.4M  25.7M  25.9M  26.1M  \n",
      "\n",
      "[5 rows x 302 columns]\n",
      "\n",
      "Life Expectancy Data:\n",
      "       country  1800  1801  1802  1803  1804  1805  1806  1807  1808  ...  \\\n",
      "0  Afghanistan  28.2  28.2  28.2  28.2  28.2  28.2  28.1  28.1  28.1  ...   \n",
      "1       Angola  27.0  27.0  27.0  27.0  27.0  27.0  27.0  27.0  27.0  ...   \n",
      "2      Albania  35.4  35.4  35.4  35.4  35.4  35.4  35.4  35.4  35.4  ...   \n",
      "3      Andorra   NaN   NaN   NaN   NaN   NaN   NaN   NaN   NaN   NaN  ...   \n",
      "4          UAE  30.7  30.7  30.7  30.7  30.7  30.7  30.7  30.7  30.7  ...   \n",
      "\n",
      "   2091  2092  2093  2094  2095  2096  2097  2098  2099  2100  \n",
      "0  75.9  76.1  76.2  76.4  76.5  76.7  76.8  77.0  77.1  77.3  \n",
      "1  75.8  75.9  76.0  76.1  76.3  76.4  76.5  76.7  76.8  76.9  \n",
      "2  88.9  89.0  89.2  89.3  89.4  89.5  89.6  89.7  89.8  90.0  \n",
      "3  91.0  91.1  91.3  91.4  91.5  91.6  91.7  91.8  91.9  92.0  \n",
      "4  83.7  83.8  83.9  84.0  84.1  84.2  84.3  84.5  84.6  84.7  \n",
      "\n",
      "[5 rows x 302 columns]\n"
     ]
    }
   ],
   "source": [
    "print(\"GDP Data:\")\n",
    "print(gdp.head())\n",
    "print(\"\\nPopulation Data:\")\n",
    "print(population.head())\n",
    "\n",
    "print(\"\\nLife Expectancy Data:\")\n",
    "print(life_expectancy.head())"
   ]
  },
  {
   "cell_type": "markdown",
   "id": "da2fcc45",
   "metadata": {},
   "source": [
    "Next, I reshaped the datasets from wide format to long format using the Pandas melt function, as long format is more suitable for data analysis and visualization."
   ]
  },
  {
   "cell_type": "code",
   "execution_count": 13,
   "id": "27eaf92c",
   "metadata": {},
   "outputs": [
    {
     "name": "stdout",
     "output_type": "stream",
     "text": [
      "       country  year GDP per Capita\n",
      "0  Afghanistan  1800            481\n",
      "1       Angola  1800            373\n",
      "2      Albania  1800            469\n",
      "3      Andorra  1800           1370\n",
      "4          UAE  1800           1140\n",
      "       country  year Population\n",
      "0  Afghanistan  1800      3.28M\n",
      "1       Angola  1800      1.57M\n",
      "2      Albania  1800       400k\n",
      "3      Andorra  1800       2650\n",
      "4          UAE  1800      40.2k\n",
      "       country  year  Life Expectancy\n",
      "0  Afghanistan  1800             28.2\n",
      "1       Angola  1800             27.0\n",
      "2      Albania  1800             35.4\n",
      "3      Andorra  1800              NaN\n",
      "4          UAE  1800             30.7\n"
     ]
    }
   ],
   "source": [
    "# GDP'yi wide formattan long formata dönüştürme\n",
    "gdp_long = gdp.melt(id_vars=[\"country\"], var_name=\"year\", value_name=\"GDP per Capita\")\n",
    "\n",
    "# Population verisi için aynı işlemi yapalım\n",
    "population_long = population.melt(id_vars=[\"country\"], var_name=\"year\", value_name=\"Population\")\n",
    "\n",
    "# Life Expectancy verisi için de aynı işlem\n",
    "life_expectancy_long = life_expectancy.melt(id_vars=[\"country\"], var_name=\"year\", value_name=\"Life Expectancy\")\n",
    "\n",
    "# Dönüştürülmüş verileri kontrol edelim\n",
    "print(gdp_long.head())\n",
    "print(population_long.head())\n",
    "print(life_expectancy_long.head())\n"
   ]
  },
  {
   "cell_type": "markdown",
   "id": "5389499a",
   "metadata": {},
   "source": [
    "Once the datasets were converted to long format, I combined them into a single DataFrame by merging based on shared columns like 'country' and 'year', to facilitate further analysis."
   ]
  },
  {
   "cell_type": "code",
   "execution_count": 14,
   "id": "ef56cbe2",
   "metadata": {},
   "outputs": [
    {
     "name": "stdout",
     "output_type": "stream",
     "text": [
      "Merged Data:\n",
      "       country  year GDP per Capita Population  Life Expectancy\n",
      "0  Afghanistan  1800            481      3.28M             28.2\n",
      "1       Angola  1800            373      1.57M             27.0\n",
      "2      Albania  1800            469       400k             35.4\n",
      "3      Andorra  1800           1370       2650              NaN\n",
      "4          UAE  1800           1140      40.2k             30.7\n"
     ]
    }
   ],
   "source": [
    "# GDP ve Population verilerini birleştir\n",
    "merged_data = pd.merge(gdp_long, population_long, on=[\"country\", \"year\"])\n",
    "\n",
    "# Life Expectancy verisini ekle\n",
    "merged_data = pd.merge(merged_data, life_expectancy_long, on=[\"country\", \"year\"])\n",
    "\n",
    "print(\"Merged Data:\")\n",
    "print(merged_data.head())\n"
   ]
  },
  {
   "cell_type": "markdown",
   "id": "a8435027",
   "metadata": {},
   "source": [
    "I identified missing values in the combined dataset using the isnull().sum() function. To maintain the quality of the analysis, I removed all rows containing missing values using the dropna() method and verified the dataset again."
   ]
  },
  {
   "cell_type": "code",
   "execution_count": 15,
   "id": "81babddb",
   "metadata": {},
   "outputs": [
    {
     "name": "stdout",
     "output_type": "stream",
     "text": [
      "Missing values:\n",
      " country               0\n",
      "year                  0\n",
      "GDP per Capita        0\n",
      "Population            0\n",
      "Life Expectancy    1350\n",
      "dtype: int64\n",
      "Cleaned Data:\n",
      "       country  year GDP per Capita Population  Life Expectancy\n",
      "0  Afghanistan  1800            481      3.28M             28.2\n",
      "1       Angola  1800            373      1.57M             27.0\n",
      "2      Albania  1800            469       400k             35.4\n",
      "4          UAE  1800           1140      40.2k             30.7\n",
      "5    Argentina  1800           1700       534k             33.2\n"
     ]
    }
   ],
   "source": [
    "# Eksik değerleri kontrol et\n",
    "print(\"Missing values:\\n\", merged_data.isnull().sum())\n",
    "\n",
    "# Eksik değerleri kaldır\n",
    "merged_data.dropna(inplace=True)\n",
    "\n",
    "# Veriyi tekrar kontrol et\n",
    "print(\"Cleaned Data:\")\n",
    "print(merged_data.head())"
   ]
  },
  {
   "cell_type": "markdown",
   "id": "d6295c95",
   "metadata": {},
   "source": [
    "I displayed the first and last rows of the dataset to get an overview of its structure and content. "
   ]
  },
  {
   "cell_type": "code",
   "execution_count": 21,
   "id": "56e18443",
   "metadata": {},
   "outputs": [
    {
     "name": "stdout",
     "output_type": "stream",
     "text": [
      "First 5 rows:\n",
      "       country  year GDP per Capita Population  Life Expectancy\n",
      "0  Afghanistan  1800            481      3.28M             28.2\n",
      "1       Angola  1800            373      1.57M             27.0\n",
      "2      Albania  1800            469       400k             35.4\n",
      "4          UAE  1800           1140      40.2k             30.7\n",
      "5    Argentina  1800           1700       534k             33.2\n",
      "Last 5 rows:\n",
      "            country  year GDP per Capita Population  Life Expectancy\n",
      "58690         Samoa  2100          28.6k       384k             82.3\n",
      "58691         Yemen  2100           7650       110M             82.1\n",
      "58692  South Africa  2100          50.1k      94.3M             75.2\n",
      "58693        Zambia  2100          20.3k      64.5M             74.5\n",
      "58694      Zimbabwe  2100          12.2k      37.2M             71.3\n"
     ]
    }
   ],
   "source": [
    "print(\"First 5 rows:\")\n",
    "print(merged_data.head())\n",
    "\n",
    "print(\"Last 5 rows:\")\n",
    "print(merged_data.tail())"
   ]
  },
  {
   "cell_type": "markdown",
   "id": "82d5d999",
   "metadata": {},
   "source": [
    "To understand the dataset better, I determined the number of unique countries represented by using the nunique() function on the 'country' column.  "
   ]
  },
  {
   "cell_type": "code",
   "execution_count": 20,
   "id": "40f89943",
   "metadata": {},
   "outputs": [
    {
     "name": "stdout",
     "output_type": "stream",
     "text": [
      "Number of unique countries: 195\n"
     ]
    }
   ],
   "source": [
    "unique_countries = merged_data['country'].nunique()\n",
    "print(f\"Number of unique countries: {unique_countries}\")\n"
   ]
  },
  {
   "cell_type": "markdown",
   "id": "b9bba922",
   "metadata": {},
   "source": [
    "To focus on a specific time period, I filtered the dataset to extract all data corresponding to the year 1999 using the condition merged_data['year'] == 1999."
   ]
  },
  {
   "cell_type": "code",
   "execution_count": 17,
   "id": "3b69d0b0",
   "metadata": {},
   "outputs": [
    {
     "name": "stdout",
     "output_type": "stream",
     "text": [
      "Data for the year 1999:\n",
      "            country  year GDP per Capita Population  Life Expectancy\n",
      "38805   Afghanistan  1999           1090      19.9M             54.7\n",
      "38806        Angola  1999           4190      15.7M             51.9\n",
      "38807       Albania  1999           5410      3.19M             75.1\n",
      "38808       Andorra  1999          47.2k      65.7k             80.6\n",
      "38809           UAE  1999          85.7k      3.27M             69.2\n",
      "...             ...   ...            ...        ...              ...\n",
      "38995         Samoa  1999           4110       180k             68.3\n",
      "38996         Yemen  1999           3770        19M             63.0\n",
      "38997  South Africa  1999           9910      46.7M             57.2\n",
      "38998        Zambia  1999           1960      9.74M             45.3\n",
      "38999      Zimbabwe  1999           2830      11.8M             48.5\n",
      "\n",
      "[195 rows x 5 columns]\n"
     ]
    }
   ],
   "source": [
    "year_1999_data = merged_data[merged_data['year'] == '1999']\n",
    "print(\"Data for the year 1999:\")\n",
    "print(year_1999_data)"
   ]
  },
  {
   "cell_type": "markdown",
   "id": "2d253652",
   "metadata": {},
   "source": [
    "Since I couldn't directly filter countries in the African continent from the dataset, I first created a list of African countries."
   ]
  },
  {
   "cell_type": "code",
   "execution_count": 22,
   "id": "47a887ff",
   "metadata": {},
   "outputs": [],
   "source": [
    "# Afrika'daki ülkelerin listesi\n",
    "africa_countries = [\n",
    "    \"Algeria\", \"Angola\", \"Benin\", \"Botswana\", \"Burkina Faso\", \"Burundi\",\n",
    "    \"Cape Verde\", \"Cameroon\", \"Chad\", \"Comoros\", \"Congo\", \"Djibouti\", \"Egypt\",\n",
    "    \"Equatorial Guinea\", \"Eritrea\", \"Eswatini (Swaziland)\", \"Ethiopia\", \"Gabon\",\n",
    "    \"Gambia\", \"Ghana\", \"Guinea\", \"Guinea-Bissau\", \"Ivory Coast (Côte d'Ivoire)\",\n",
    "    \"Kenya\", \"Lesotho\", \"Liberia\", \"Libya\", \"Madagascar\", \"Malawi\", \"Mali\",\n",
    "    \"Mauritania\", \"Mauritius\", \"Morocco\", \"Mozambique\", \"Namibia\", \"Niger\",\n",
    "    \"Nigeria\", \"Rwanda\", \"São Tomé and Príncipe\", \"Senegal\", \"Seychelles\",\n",
    "    \"Sierra Leone\", \"Somalia\", \"South Africa\", \"South Sudan\", \"Sudan\",\n",
    "    \"Tanzania\", \"Togo\", \"Tunisia\", \"Uganda\", \"Zambia\", \"Zimbabwe\"\n",
    "]\n"
   ]
  },
  {
   "cell_type": "markdown",
   "id": "0d2d8ec4",
   "metadata": {},
   "source": [
    "I then filtered the dataset to include only the countries from the African continent using the list I created."
   ]
  },
  {
   "cell_type": "code",
   "execution_count": 24,
   "id": "821c105d",
   "metadata": {},
   "outputs": [
    {
     "name": "stdout",
     "output_type": "stream",
     "text": [
      "Filtered data for African countries:\n",
      "         country  year GDP per Capita Population  Life Expectancy\n",
      "1         Angola  1800            373      1.57M             27.0\n",
      "11       Burundi  1800            531       899k             31.5\n",
      "13         Benin  1800            835       637k             31.0\n",
      "14  Burkina Faso  1800            595      1.67M             29.2\n",
      "27      Botswana  1800            358       121k             33.6\n"
     ]
    }
   ],
   "source": [
    "# Veri setini Afrika ülkelerine göre filtrele\n",
    "africa_data = merged_data[merged_data['country'].isin(africa_countries)]\n",
    "\n",
    "# Sonuçları görüntüle\n",
    "print(\"Filtered data for African countries:\")\n",
    "print(africa_data.head())"
   ]
  },
  {
   "cell_type": "markdown",
   "id": "80b54315",
   "metadata": {},
   "source": [
    "Since the values in the Population column included 'k' and 'M', I couldn't directly filter values greater than 1,000,000. Therefore, I converted these values into floats to enable numerical comparisons."
   ]
  },
  {
   "cell_type": "code",
   "execution_count": 25,
   "id": "d49592b2",
   "metadata": {},
   "outputs": [],
   "source": [
    "# 'Population' sütununu düzenleme fonksiyonu\n",
    "def convert_population(value):\n",
    "    if isinstance(value, str):  # Eğer değer bir metinse\n",
    "        if \"M\" in value:  # 'M' harfi varsa\n",
    "            return float(value.replace(\"M\", \"\")) * 1_000_000\n",
    "        elif \"k\" in value:  # 'k' harfi varsa\n",
    "            return float(value.replace(\"k\", \"\")) * 1_000\n",
    "    return value  # Eğer dönüşüm gerekmezse olduğu gibi döndür\n",
    "\n",
    "# Population sütununu düzenleme\n",
    "merged_data['Population'] = merged_data['Population'].apply(convert_population)\n",
    "\n",
    "# Tüm Population değerlerini sayıya dönüştür\n",
    "merged_data['Population'] = pd.to_numeric(merged_data['Population'], errors='coerce')\n",
    "\n",
    "# Eksik değerleri kaldır\n",
    "merged_data.dropna(subset=['Population'], inplace=True)"
   ]
  },
  {
   "cell_type": "markdown",
   "id": "945802ce",
   "metadata": {},
   "source": [
    "After transforming the population values into numeric format, I filtered the dataset to include only countries with populations exceeding 1 million for additional analysis."
   ]
  },
  {
   "cell_type": "code",
   "execution_count": 26,
   "id": "93cf77da",
   "metadata": {},
   "outputs": [
    {
     "name": "stdout",
     "output_type": "stream",
     "text": [
      "            country  year GDP per Capita   Population  Life Expectancy\n",
      "0       Afghanistan  1800            481    3280000.0             28.2\n",
      "1            Angola  1800            373    1570000.0             27.0\n",
      "9           Austria  1800           1940    3000000.0             34.4\n",
      "12          Belgium  1800           2660    3250000.0             40.0\n",
      "14     Burkina Faso  1800            595    1670000.0             29.2\n",
      "...             ...   ...            ...          ...              ...\n",
      "58688       Vietnam  2100          55.3k   91700000.0             86.7\n",
      "58691         Yemen  2100           7650  110000000.0             82.1\n",
      "58692  South Africa  2100          50.1k   94300000.0             75.2\n",
      "58693        Zambia  2100          20.3k   64500000.0             74.5\n",
      "58694      Zimbabwe  2100          12.2k   37200000.0             71.3\n",
      "\n",
      "[38461 rows x 5 columns]\n"
     ]
    }
   ],
   "source": [
    "# Nüfusu 1 milyondan fazla olan ülkeleri seç\n",
    "filtered_africa_data = merged_data[merged_data['Population'] > 1_000_000]\n",
    "\n",
    "# Sonuçları görüntüle\n",
    "print(filtered_africa_data)\n"
   ]
  },
  {
   "cell_type": "markdown",
   "id": "f85a31ad",
   "metadata": {},
   "source": [
    "I sorted the dataset in ascending order based on life expectancy to analyze countries with the lowest life expectancies.\n",
    "\n",
    "I added a new column, 'Population Category', to classify countries as 'High', 'Medium', or 'Low' population based on defined thresholds: greater than 50 million, between 10 and 50 million, and less than or equal to 10 million, respectively."
   ]
  },
  {
   "cell_type": "code",
   "execution_count": 27,
   "id": "baf63e19",
   "metadata": {},
   "outputs": [
    {
     "name": "stdout",
     "output_type": "stream",
     "text": [
      "Dataset sorted by Life Expectancy:\n",
      "                country  year GDP per Capita  Population  Life Expectancy\n",
      "45507  Hong Kong, China  2033          67.2k   7140000.0              0.0\n",
      "50382  Hong Kong, China  2058          77.4k   5380000.0              0.0\n",
      "52722  Hong Kong, China  2070            81k   4330000.0              0.0\n",
      "51357  Hong Kong, China  2063            79k   4940000.0              0.0\n",
      "55062  Hong Kong, China  2082          83.9k   3290000.0              0.0\n",
      "Dataset with Population Category:\n",
      "       country  Population Population Category\n",
      "0  Afghanistan   3280000.0                 Low\n",
      "1       Angola   1570000.0                 Low\n",
      "2      Albania    400000.0                 Low\n",
      "4          UAE     40200.0                 Low\n",
      "5    Argentina    534000.0                 Low\n"
     ]
    }
   ],
   "source": [
    "# Veri setini yaşam beklentisine göre sıralama\n",
    "sorted_data = merged_data.sort_values(by='Life Expectancy', ascending=True)\n",
    "\n",
    "# Nüfus kategorilerini belirleyen fonksiyon\n",
    "def categorize_population(population):\n",
    "    if population > 50_000_000:\n",
    "        return 'High'\n",
    "    elif population > 10_000_000:\n",
    "        return 'Medium'\n",
    "    else:\n",
    "        return 'Low'\n",
    "\n",
    "# Yeni bir 'Population Category' sütunu ekleme\n",
    "merged_data['Population Category'] = merged_data['Population'].apply(categorize_population)\n",
    "\n",
    "# Sonuçları görüntüle\n",
    "print(\"Dataset sorted by Life Expectancy:\")\n",
    "print(sorted_data.head())\n",
    "\n",
    "print(\"Dataset with Population Category:\")\n",
    "print(merged_data[['country', 'Population', 'Population Category']].head())\n"
   ]
  },
  {
   "cell_type": "markdown",
   "id": "f2dc0d14",
   "metadata": {},
   "source": [
    "Since I couldn’t find a dataset containing continent information, I manually assigned continents to each country in the dataset."
   ]
  },
  {
   "cell_type": "code",
   "execution_count": 29,
   "id": "ae1e1e8e",
   "metadata": {},
   "outputs": [],
   "source": [
    "# Ülke-kıta eşleme sözlüğü\n",
    "continent_map = {\n",
    "    \"Afghanistan\": \"Asia\",\n",
    "    \"Albania\": \"Europe\",\n",
    "    \"Algeria\": \"Africa\",\n",
    "    \"Andorra\": \"Europe\",\n",
    "    \"Angola\": \"Africa\",\n",
    "    \"Antigua and Barbuda\": \"North America\",\n",
    "    \"Argentina\": \"South America\",\n",
    "    \"Armenia\": \"Asia\",\n",
    "    \"Australia\": \"Oceania\",\n",
    "    \"Austria\": \"Europe\",\n",
    "    \"Azerbaijan\": \"Asia\",\n",
    "    \"Bahamas\": \"North America\",\n",
    "    \"Bahrain\": \"Asia\",\n",
    "    \"Bangladesh\": \"Asia\",\n",
    "    \"Barbados\": \"North America\",\n",
    "    \"Belarus\": \"Europe\",\n",
    "    \"Belgium\": \"Europe\",\n",
    "    \"Belize\": \"North America\",\n",
    "    \"Benin\": \"Africa\",\n",
    "    \"Bhutan\": \"Asia\",\n",
    "    \"Bolivia\": \"South America\",\n",
    "    \"Bosnia and Herzegovina\": \"Europe\",\n",
    "    \"Botswana\": \"Africa\",\n",
    "    \"Brazil\": \"South America\",\n",
    "    \"Brunei\": \"Asia\",\n",
    "    \"Bulgaria\": \"Europe\",\n",
    "    \"Burkina Faso\": \"Africa\",\n",
    "    \"Burundi\": \"Africa\",\n",
    "    \"Cabo Verde\": \"Africa\",\n",
    "    \"Cambodia\": \"Asia\",\n",
    "    \"Cameroon\": \"Africa\",\n",
    "    \"Canada\": \"North America\",\n",
    "    \"Central African Republic\": \"Africa\",\n",
    "    \"Chad\": \"Africa\",\n",
    "    \"Chile\": \"South America\",\n",
    "    \"China\": \"Asia\",\n",
    "    \"Colombia\": \"South America\",\n",
    "    \"Comoros\": \"Africa\",\n",
    "    \"Congo\": \"Africa\",\n",
    "    \"Costa Rica\": \"North America\",\n",
    "    \"Croatia\": \"Europe\",\n",
    "    \"Cuba\": \"North America\",\n",
    "    \"Cyprus\": \"Asia\",\n",
    "    \"Czech Republic\": \"Europe\",\n",
    "    \"Denmark\": \"Europe\",\n",
    "    \"Djibouti\": \"Africa\",\n",
    "    \"Dominica\": \"North America\",\n",
    "    \"Dominican Republic\": \"North America\",\n",
    "    \"Ecuador\": \"South America\",\n",
    "    \"Egypt\": \"Africa\",\n",
    "    \"El Salvador\": \"North America\",\n",
    "    \"Equatorial Guinea\": \"Africa\",\n",
    "    \"Eritrea\": \"Africa\",\n",
    "    \"Estonia\": \"Europe\",\n",
    "    \"Eswatini (Swaziland)\": \"Africa\",\n",
    "    \"Ethiopia\": \"Africa\",\n",
    "    \"Fiji\": \"Oceania\",\n",
    "    \"Finland\": \"Europe\",\n",
    "    \"France\": \"Europe\",\n",
    "    \"Gabon\": \"Africa\",\n",
    "    \"Gambia\": \"Africa\",\n",
    "    \"Georgia\": \"Asia\",\n",
    "    \"Germany\": \"Europe\",\n",
    "    \"Ghana\": \"Africa\",\n",
    "    \"Greece\": \"Europe\",\n",
    "    \"Grenada\": \"North America\",\n",
    "    \"Guatemala\": \"North America\",\n",
    "    \"Guinea\": \"Africa\",\n",
    "    \"Guinea-Bissau\": \"Africa\",\n",
    "    \"Guyana\": \"South America\",\n",
    "    \"Haiti\": \"North America\",\n",
    "    \"Honduras\": \"North America\",\n",
    "    \"Hungary\": \"Europe\",\n",
    "    \"Iceland\": \"Europe\",\n",
    "    \"India\": \"Asia\",\n",
    "    \"Indonesia\": \"Asia\",\n",
    "    \"Iran\": \"Asia\",\n",
    "    \"Iraq\": \"Asia\",\n",
    "    \"Ireland\": \"Europe\",\n",
    "    \"Israel\": \"Asia\",\n",
    "    \"Italy\": \"Europe\",\n",
    "    \"Ivory Coast (Côte d'Ivoire)\": \"Africa\",\n",
    "    \"Jamaica\": \"North America\",\n",
    "    \"Japan\": \"Asia\",\n",
    "    \"Jordan\": \"Asia\",\n",
    "    \"Kazakhstan\": \"Asia\",\n",
    "    \"Kenya\": \"Africa\",\n",
    "    \"Kiribati\": \"Oceania\",\n",
    "    \"Kuwait\": \"Asia\",\n",
    "    \"Kyrgyzstan\": \"Asia\",\n",
    "    \"Laos\": \"Asia\",\n",
    "    \"Latvia\": \"Europe\",\n",
    "    \"Lebanon\": \"Asia\",\n",
    "    \"Lesotho\": \"Africa\",\n",
    "    \"Liberia\": \"Africa\",\n",
    "    \"Libya\": \"Africa\",\n",
    "    \"Liechtenstein\": \"Europe\",\n",
    "    \"Lithuania\": \"Europe\",\n",
    "    \"Luxembourg\": \"Europe\",\n",
    "    \"Madagascar\": \"Africa\",\n",
    "    \"Malawi\": \"Africa\",\n",
    "    \"Malaysia\": \"Asia\",\n",
    "    \"Maldives\": \"Asia\",\n",
    "    \"Mali\": \"Africa\",\n",
    "    \"Malta\": \"Europe\",\n",
    "    \"Marshall Islands\": \"Oceania\",\n",
    "    \"Mauritania\": \"Africa\",\n",
    "    \"Mauritius\": \"Africa\",\n",
    "    \"Mexico\": \"North America\",\n",
    "    \"Micronesia\": \"Oceania\",\n",
    "    \"Moldova\": \"Europe\",\n",
    "    \"Monaco\": \"Europe\",\n",
    "    \"Mongolia\": \"Asia\",\n",
    "    \"Montenegro\": \"Europe\",\n",
    "    \"Morocco\": \"Africa\",\n",
    "    \"Mozambique\": \"Africa\",\n",
    "    \"Myanmar (Burma)\": \"Asia\",\n",
    "    \"Namibia\": \"Africa\",\n",
    "    \"Nauru\": \"Oceania\",\n",
    "    \"Nepal\": \"Asia\",\n",
    "    \"Netherlands\": \"Europe\",\n",
    "    \"New Zealand\": \"Oceania\",\n",
    "    \"Nicaragua\": \"North America\",\n",
    "    \"Niger\": \"Africa\",\n",
    "    \"Nigeria\": \"Africa\",\n",
    "    \"North Korea\": \"Asia\",\n",
    "    \"North Macedonia\": \"Europe\",\n",
    "    \"Norway\": \"Europe\",\n",
    "    \"Oman\": \"Asia\",\n",
    "    \"Pakistan\": \"Asia\",\n",
    "    \"Palau\": \"Oceania\",\n",
    "    \"Panama\": \"North America\",\n",
    "    \"Papua New Guinea\": \"Oceania\",\n",
    "    \"Paraguay\": \"South America\",\n",
    "    \"Peru\": \"South America\",\n",
    "    \"Philippines\": \"Asia\",\n",
    "    \"Poland\": \"Europe\",\n",
    "    \"Portugal\": \"Europe\",\n",
    "    \"Qatar\": \"Asia\",\n",
    "    \"Romania\": \"Europe\",\n",
    "    \"Russia\": \"Europe\",\n",
    "    \"Rwanda\": \"Africa\",\n",
    "    \"Saint Kitts and Nevis\": \"North America\",\n",
    "    \"Saint Lucia\": \"North America\",\n",
    "    \"Saint Vincent and the Grenadines\": \"North America\",\n",
    "    \"Samoa\": \"Oceania\",\n",
    "    \"San Marino\": \"Europe\",\n",
    "    \"Sao Tome and Principe\": \"Africa\",\n",
    "    \"Saudi Arabia\": \"Asia\",\n",
    "    \"Senegal\": \"Africa\",\n",
    "    \"Serbia\": \"Europe\",\n",
    "    \"Seychelles\": \"Africa\",\n",
    "    \"Sierra Leone\": \"Africa\",\n",
    "    \"Singapore\": \"Asia\",\n",
    "    \"Slovakia\": \"Europe\",\n",
    "    \"Slovenia\": \"Europe\",\n",
    "    \"Solomon Islands\": \"Oceania\",\n",
    "    \"Somalia\": \"Africa\",\n",
    "    \"South Africa\": \"Africa\",\n",
    "    \"South Korea\": \"Asia\",\n",
    "    \"South Sudan\": \"Africa\",\n",
    "    \"Spain\": \"Europe\",\n",
    "    \"Sri Lanka\": \"Asia\",\n",
    "    \"Sudan\": \"Africa\",\n",
    "    \"Suriname\": \"South America\",\n",
    "    \"Sweden\": \"Europe\",\n",
    "    \"Switzerland\": \"Europe\",\n",
    "    \"Syria\": \"Asia\",\n",
    "    \"Tajikistan\": \"Asia\",\n",
    "    \"Tanzania\": \"Africa\",\n",
    "    \"Thailand\": \"Asia\",\n",
    "    \"Timor-Leste\": \"Asia\",\n",
    "    \"Togo\": \"Africa\",\n",
    "    \"Tonga\": \"Oceania\",\n",
    "    \"Trinidad and Tobago\": \"North America\",\n",
    "    \"Tunisia\": \"Africa\",\n",
    "    \"Turkey\": \"Asia\",\n",
    "    \"Turkmenistan\": \"Asia\",\n",
    "    \"Tuvalu\": \"Oceania\",\n",
    "    \"Uganda\": \"Africa\",\n",
    "    \"Ukraine\": \"Europe\",\n",
    "    \"United Arab Emirates\": \"Asia\",\n",
    "    \"United Kingdom\": \"Europe\",\n",
    "    \"United States\": \"North America\",\n",
    "    \"Uruguay\": \"South America\",\n",
    "    \"Uzbekistan\": \"Asia\",\n",
    "    \"Vanuatu\": \"Oceania\",\n",
    "    \"Vatican City\": \"Europe\",\n",
    "    \"Venezuela\": \"South America\",\n",
    "    \"Vietnam\": \"Asia\",\n",
    "    \"Yemen\": \"Asia\",\n",
    "    \"Zambia\": \"Africa\",\n",
    "    \"Zimbabwe\": \"Africa\"\n",
    "}\n"
   ]
  },
  {
   "cell_type": "code",
   "execution_count": 30,
   "id": "f354b912",
   "metadata": {},
   "outputs": [
    {
     "name": "stdout",
     "output_type": "stream",
     "text": [
      "       country      continent\n",
      "0  Afghanistan           Asia\n",
      "1       Angola         Africa\n",
      "2      Albania         Europe\n",
      "4          UAE            NaN\n",
      "5    Argentina  South America\n"
     ]
    }
   ],
   "source": [
    "# Kıta sütununu veri setine ekle\n",
    "merged_data['continent'] = merged_data['country'].map(continent_map)\n",
    "\n",
    "# İlk birkaç satırı kontrol et\n",
    "print(merged_data[['country', 'continent']].head())\n"
   ]
  },
  {
   "cell_type": "code",
   "execution_count": 31,
   "id": "4b857183",
   "metadata": {},
   "outputs": [
    {
     "name": "stdout",
     "output_type": "stream",
     "text": [
      "       country      continent\n",
      "0  Afghanistan           Asia\n",
      "1       Angola         Africa\n",
      "2      Albania         Europe\n",
      "4          UAE            NaN\n",
      "5    Argentina  South America\n"
     ]
    }
   ],
   "source": [
    "# Veri setine kıta sütunu ekle\n",
    "merged_data['continent'] = merged_data['country'].map(continent_map)\n",
    "\n",
    "# İlk birkaç satırı görüntüle\n",
    "print(merged_data[['country', 'continent']].head())\n"
   ]
  },
  {
   "cell_type": "code",
   "execution_count": 32,
   "id": "2547160d",
   "metadata": {},
   "outputs": [
    {
     "name": "stdout",
     "output_type": "stream",
     "text": [
      "Countries without continent mapping:\n",
      "['UAE' \"Cote d'Ivoire\" 'Congo, Dem. Rep.' 'Congo, Rep.' 'Cape Verde'\n",
      " 'Micronesia, Fed. Sts.' 'UK' 'Hong Kong, China' 'Kyrgyz Republic' 'Lao'\n",
      " 'St. Lucia' 'Myanmar' 'Palestine' 'Slovak Republic' 'Eswatini' 'Taiwan'\n",
      " 'USA' 'St. Vincent and the Grenadines' 'St. Kitts and Nevis']\n"
     ]
    }
   ],
   "source": [
    "# NaN olan ülkeleri kontrol et\n",
    "missing_countries = merged_data[merged_data['continent'].isnull()]['country'].unique()\n",
    "print(\"Countries without continent mapping:\")\n",
    "print(missing_countries)\n"
   ]
  },
  {
   "cell_type": "code",
   "execution_count": 33,
   "id": "2921c939",
   "metadata": {},
   "outputs": [],
   "source": [
    "# Eksik kıta bilgileri\n",
    "additional_continents = {\n",
    "    \"UAE\": \"Asia\",  # United Arab Emirates\n",
    "    \"Cote d'Ivoire\": \"Africa\",  # Ivory Coast\n",
    "    \"Congo, Dem. Rep.\": \"Africa\",  # Democratic Republic of the Congo\n",
    "    \"Congo, Rep.\": \"Africa\",  # Republic of the Congo\n",
    "    \"Cape Verde\": \"Africa\",  # Cabo Verde\n",
    "    \"Micronesia, Fed. Sts.\": \"Oceania\",  # Federated States of Micronesia\n",
    "    \"UK\": \"Europe\",  # United Kingdom\n",
    "    \"Hong Kong, China\": \"Asia\",  # Hong Kong\n",
    "    \"Kyrgyz Republic\": \"Asia\",  # Kyrgyzstan\n",
    "    \"Lao\": \"Asia\",  # Laos\n",
    "    \"St. Lucia\": \"North America\",  # Saint Lucia\n",
    "    \"Myanmar\": \"Asia\",  # Burma\n",
    "    \"Palestine\": \"Asia\",  # Palestine\n",
    "    \"Slovak Republic\": \"Europe\",  # Slovakia\n",
    "    \"Eswatini\": \"Africa\",  # Formerly Swaziland\n",
    "    \"Taiwan\": \"Asia\",  # Taiwan\n",
    "    \"USA\": \"North America\",  # United States of America\n",
    "    \"St. Vincent and the Grenadines\": \"North America\",  # Saint Vincent\n",
    "    \"St. Kitts and Nevis\": \"North America\"  # Saint Kitts\n",
    "}\n"
   ]
  },
  {
   "cell_type": "markdown",
   "id": "86c32112",
   "metadata": {},
   "source": [
    "I calculated the average GDP per capita for each continent by grouping the data using the continent column and computing the mean of the GDP per Capita values for each group."
   ]
  },
  {
   "cell_type": "code",
   "execution_count": 36,
   "id": "b5ed2324",
   "metadata": {},
   "outputs": [
    {
     "name": "stdout",
     "output_type": "stream",
     "text": [
      "16778\n"
     ]
    }
   ],
   "source": [
    "# GDP per Capita sütununu sayısal bir tipe dönüştür\n",
    "merged_data['GDP per Capita'] = pd.to_numeric(merged_data['GDP per Capita'], errors='coerce')\n",
    "\n",
    "# Dönüştürme sonrası eksik değerleri kontrol et\n",
    "print(merged_data['GDP per Capita'].isnull().sum())\n"
   ]
  },
  {
   "cell_type": "code",
   "execution_count": 42,
   "id": "e2ea6f01",
   "metadata": {},
   "outputs": [
    {
     "name": "stdout",
     "output_type": "stream",
     "text": [
      "Average GDP per capita for each continent:\n",
      "continent\n",
      "Africa           1938.024445\n",
      "Asia             2185.236045\n",
      "Europe           3066.722177\n",
      "North America    2802.800107\n",
      "Oceania          2905.836232\n",
      "South America    3272.919417\n",
      "Name: GDP per Capita, dtype: float64\n"
     ]
    }
   ],
   "source": [
    "# GDP per Capita sütununu sayısal tipe dönüştür\n",
    "merged_data['GDP per Capita'] = pd.to_numeric(merged_data['GDP per Capita'], errors='coerce')\n",
    "\n",
    "# Eksik değerleri kontrol et ve kaldır\n",
    "merged_data.dropna(subset=['GDP per Capita'], inplace=True)\n",
    "\n",
    "# Her kıta için kişi başına düşen ortalama GSYİH'yi hesapla\n",
    "average_gdp_per_continent = merged_data.groupby('continent')['GDP per Capita'].mean()\n",
    "\n",
    "# Sonuçları görüntüle\n",
    "print(\"Average GDP per capita for each continent:\")\n",
    "print(average_gdp_per_continent)\n"
   ]
  },
  {
   "cell_type": "code",
   "execution_count": 43,
   "id": "8f1a4b99",
   "metadata": {},
   "outputs": [
    {
     "data": {
      "image/png": "[encoded data removed]",
      "text/plain": [
       "<Figure size 1000x600 with 1 Axes>"
      ]
     },
     "metadata": {},
     "output_type": "display_data"
    }
   ],
   "source": [
    "import matplotlib.pyplot as plt\n",
    "\n",
    "# Seçilen ülke\n",
    "selected_country = \"Turkey\"\n",
    "\n",
    "# Veriyi filtrele\n",
    "country_data = merged_data[merged_data['country'] == selected_country]\n",
    "\n",
    "# Yıllara göre sıralama (Görsel için temiz bir çizgi)\n",
    "country_data = country_data.sort_values(by='year')\n",
    "\n",
    "# Yaşam Beklentisi Trend Grafiği\n",
    "plt.figure(figsize=(10, 6))\n",
    "plt.plot(country_data['year'], country_data['Life Expectancy'], marker='o', label=selected_country)\n",
    "\n",
    "# Grafik detayları\n",
    "plt.title(f\"Life Expectancy Trends in {selected_country}\", fontsize=14)\n",
    "plt.xlabel(\"Year\", fontsize=12)\n",
    "plt.ylabel(\"Life Expectancy\", fontsize=12)\n",
    "plt.grid(True)\n",
    "plt.legend()\n",
    "plt.show()\n"
   ]
  },
  {
   "cell_type": "markdown",
   "id": "56ca60f3",
   "metadata": {},
   "source": [
    "I visualized the trends in life expectancy over the years for Turkey using Pandas' and Matplotlib's plotting functions. Line plot was generated to display the changes in life expectancy over time."
   ]
  }
 ],
 "metadata": {
  "kernelspec": {
   "display_name": "Python 3 (ipykernel)",
   "language": "python",
   "name": "python3"
  },
  "language_info": {
   "codemirror_mode": {
    "name": "ipython",
    "version": 3
   },
   "file_extension": ".py",
   "mimetype": "text/x-python",
   "name": "python",
   "nbconvert_exporter": "python",
   "pygments_lexer": "ipython3",
   "version": "3.9.13"
  }
 },
 "nbformat": 4,
 "nbformat_minor": 5
}
