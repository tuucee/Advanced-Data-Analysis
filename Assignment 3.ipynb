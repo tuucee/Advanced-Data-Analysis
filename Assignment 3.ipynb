{
 "cells": [
  {
   "cell_type": "code",
   "execution_count": 1,
   "id": "90efb0a0",
   "metadata": {},
   "outputs": [],
   "source": [
    "from bs4 import BeautifulSoup\n",
    "import requests\n",
    "import pandas as pd\n",
    "import csv"
   ]
  },
  {
   "cell_type": "markdown",
   "id": "6a19936a",
   "metadata": {},
   "source": [
    "I connected to the website using the requests module by adding header information."
   ]
  },
  {
   "cell_type": "code",
   "execution_count": 2,
   "id": "28798b41",
   "metadata": {},
   "outputs": [],
   "source": [
    "headers = {\"User-Agent\":\"Mozilla/5.0 (Macintosh; Intel Mac OS X 10_15_7) AppleWebKit/605.1.15 (KHTML, like Gecko) Version/18.1.1 Safari/605.1.15\"}"
   ]
  },
  {
   "cell_type": "code",
   "execution_count": 4,
   "id": "20dd34e6",
   "metadata": {},
   "outputs": [],
   "source": [
    "url = \"https://www.accuweather.com/en/tr/istanbul/318251/daily-weather-forecast/318251\""
   ]
  },
  {
   "cell_type": "code",
   "execution_count": 5,
   "id": "a1c3a07d",
   "metadata": {},
   "outputs": [],
   "source": [
    "site = requests.get(url, headers=headers)"
   ]
  },
  {
   "cell_type": "markdown",
   "id": "6ac191de",
   "metadata": {},
   "source": [
    "The content is retrieved from the website using a request, and the BeautifulSoup library is used to transform this content into an editable structure"
   ]
  },
  {
   "cell_type": "code",
   "execution_count": 7,
   "id": "7d42af94",
   "metadata": {},
   "outputs": [],
   "source": [
    "soup = BeautifulSoup(site.content, \"lxml\")"
   ]
  },
  {
   "cell_type": "markdown",
   "id": "608cd92b",
   "metadata": {},
   "source": [
    "We identify the necessary HTML tags to locate the content of the targeted data."
   ]
  },
  {
   "cell_type": "code",
   "execution_count": 8,
   "id": "1f53003f",
   "metadata": {},
   "outputs": [],
   "source": [
    "date_container = soup.find(\"div\", attrs={\"class\": \"two-column-page-content\"})\n",
    "daily = date_container.find_all(\"div\", attrs={\"class\": \"daily-wrapper\"})"
   ]
  },
  {
   "cell_type": "markdown",
   "id": "66be222b",
   "metadata": {},
   "source": [
    "Empty lists are created to store the data."
   ]
  },
  {
   "cell_type": "code",
   "execution_count": 10,
   "id": "dbfc7cfc",
   "metadata": {},
   "outputs": [],
   "source": [
    "days_of_week = []\n",
    "dates = []\n",
    "max_temperatures = []\n",
    "min_temperatures = []\n",
    "weather_conditions = []"
   ]
  },
  {
   "cell_type": "markdown",
   "id": "ee31b5a5",
   "metadata": {},
   "source": [
    "A loop is created for each daily item, and data is extracted"
   ]
  },
  {
   "cell_type": "code",
   "execution_count": 12,
   "id": "a87c0ed6",
   "metadata": {},
   "outputs": [],
   "source": [
    "for day in daily:\n",
    "    date_elem = day.find(\"h2\", attrs={\"class\": \"date\"})"
   ]
  },
  {
   "cell_type": "markdown",
   "id": "fe627636",
   "metadata": {},
   "source": [
    "Day and date information is extracted and added to the relevant lists\n",
    "\n"
   ]
  },
  {
   "cell_type": "code",
   "execution_count": 14,
   "id": "59e3f95b",
   "metadata": {},
   "outputs": [],
   "source": [
    "days_of_week.append(date_elem.find(\"span\", attrs={\"class\": \"module-header dow date\"}).text)"
   ]
  },
  {
   "cell_type": "code",
   "execution_count": 15,
   "id": "cdde06af",
   "metadata": {},
   "outputs": [],
   "source": [
    "dates.append(date_elem.find(\"span\", attrs={\"class\": \"module-header sub date\"}).text)"
   ]
  },
  {
   "cell_type": "markdown",
   "id": "a8244d17",
   "metadata": {},
   "source": [
    "Maximum and minimum temperature information is extracted and added to the relevant lists"
   ]
  },
  {
   "cell_type": "code",
   "execution_count": 16,
   "id": "3969cb85",
   "metadata": {},
   "outputs": [],
   "source": [
    "max_temp = day.find(\"div\", attrs={\"class\": \"temp\"}).select(\"span:nth-of-type(1)\")\n",
    "max_temperatures.append(max_temp[0].string)\n",
    "min_temp = day.find(\"div\", attrs={\"class\": \"temp\"}).select(\"span:nth-of-type(2)\")\n",
    "min_temperatures.append(min_temp[0].string.replace(\"/\", \"\"))\n",
    "    "
   ]
  },
  {
   "cell_type": "markdown",
   "id": "92d3273a",
   "metadata": {},
   "source": [
    "Weather condition information is extracted and added to the appropriate list."
   ]
  },
  {
   "cell_type": "code",
   "execution_count": 17,
   "id": "9f813b72",
   "metadata": {},
   "outputs": [],
   "source": [
    "condition = day.find(\"div\", attrs={\"class\": \"phrase\"}).string.replace(\"\\t\", \"\")\n",
    "weather_conditions.append(condition.replace(\"\\n\", \"\"))\n"
   ]
  },
  {
   "cell_type": "markdown",
   "id": "1c674c81",
   "metadata": {},
   "source": [
    "The collected data is stored in a dictionary."
   ]
  },
  {
   "cell_type": "code",
   "execution_count": 18,
   "id": "86f8a9a1",
   "metadata": {},
   "outputs": [],
   "source": [
    "weather_data = {'Date': dates, 'Day': days_of_week, 'Max Temperature': max_temperatures, 'Min Temperature': min_temperatures, 'Condition': weather_conditions}"
   ]
  },
  {
   "cell_type": "markdown",
   "id": "d8fc5db9",
   "metadata": {},
   "source": [
    "We convert the data into a DataFrame."
   ]
  },
  {
   "cell_type": "code",
   "execution_count": 19,
   "id": "353a940b",
   "metadata": {},
   "outputs": [],
   "source": [
    "df = pd.DataFrame(weather_data)"
   ]
  },
  {
   "cell_type": "markdown",
   "id": "f964f8d8",
   "metadata": {},
   "source": [
    "The file is opened to write data into a CSV format, and headers and rows are written using csv.DictWriter."
   ]
  },
  {
   "cell_type": "code",
   "execution_count": 21,
   "id": "6990ec14",
   "metadata": {},
   "outputs": [],
   "source": [
    "with open('C:\\\\Users\\\\tugceunlu\\\\Documents\\\\havaDurumu.csv', 'w', newline='') as f:\n",
    "    writer = csv.DictWriter(f, fieldnames=weather_data.keys())\n",
    "    writer.writeheader()\n",
    "    for row in df.to_dict(orient='records'):\n",
    "        writer.writerow(row)"
   ]
  },
  {
   "cell_type": "code",
   "execution_count": 22,
   "id": "da06efa6",
   "metadata": {},
   "outputs": [],
   "source": [
    "df = pd.read_csv('C:\\\\Users\\\\tugceunlu\\\\Documents\\\\havaDurumu.csv')"
   ]
  },
  {
   "cell_type": "code",
   "execution_count": 23,
   "id": "448f8b58",
   "metadata": {},
   "outputs": [
    {
     "name": "stdout",
     "output_type": "stream",
     "text": [
      "  Date  Day Max Temperature Min Temperature  \\\n",
      "0  2/3  Mon              7°              1°   \n",
      "\n",
      "                                           Condition  \n",
      "0  Windy with rain and snow at times becoming all...  \n"
     ]
    }
   ],
   "source": [
    "print(df.head()) "
   ]
  },
  {
   "cell_type": "code",
   "execution_count": null,
   "id": "5fe3588d",
   "metadata": {},
   "outputs": [],
   "source": []
  }
 ],
 "metadata": {
  "kernelspec": {
   "display_name": "Python 3 (ipykernel)",
   "language": "python",
   "name": "python3"
  },
  "language_info": {
   "codemirror_mode": {
    "name": "ipython",
    "version": 3
   },
   "file_extension": ".py",
   "mimetype": "text/x-python",
   "name": "python",
   "nbconvert_exporter": "python",
   "pygments_lexer": "ipython3",
   "version": "3.9.13"
  }
 },
 "nbformat": 4,
 "nbformat_minor": 5
}
